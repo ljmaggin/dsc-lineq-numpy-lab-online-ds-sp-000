{
 "cells": [
  {
   "cell_type": "markdown",
   "metadata": {},
   "source": [
    "# Solving Systems of Linear Equations with NumPy - Lab\n",
    "\n",
    "## Introduction \n",
    "\n",
    "Now you've gathered all the required skills needed to solve systems of linear equations. You saw why there was a need to calculate inverses of matrices, followed by matrix multiplication to figure out the values of unknown variables. \n",
    "\n",
    "The exercises in this lab present some problems that can be converted into a system of linear equations. \n",
    "\n",
    "## Objectives\n",
    "You will be able to:\n",
    "\n",
    "- Use matrix algebra and NumPy to solve a system of linear equations given a real-life example \n",
    "- Use NumPy's linear algebra solver to solve for systems of linear equations\n",
    "\n",
    "## Exercise 1\n",
    "\n",
    "A coffee shop is having a sale on coffee and tea. \n",
    "\n",
    "On day 1, 29 bags of coffee and 41 bags of tea were sold, for a total of 490 dollars.\n",
    "\n",
    "On day 2, they sold 23 bags of coffee and 41 bags of tea, for which customers paid a total of 448 dollars.  \n",
    "\n",
    "How much does each bag cost?"
   ]
  },
  {
   "cell_type": "code",
   "execution_count": 6,
   "metadata": {},
   "outputs": [
    {
     "name": "stdout",
     "output_type": "stream",
     "text": [
      "(2, 2)\n",
      "(1, 2)\n",
      "[[7.]\n",
      " [7.]]\n"
     ]
    }
   ],
   "source": [
    "# Create and solve the relevant system of equations\n",
    "import numpy as np\n",
    "\n",
    "a = np.matrix([[29, 41], [23, 41]])\n",
    "b = np.matrix([490, 448])\n",
    "\n",
    "a_inv = np.linalg.inv(a)\n",
    "\n",
    "print(a_inv.shape)\n",
    "print(b.shape)\n",
    "#columns must = num rows right now b has 1 row 2 colums but nees 2 rows\n",
    "\n",
    "b_t = b.T\n",
    "\n",
    "x = a_inv.dot(b_t)\n",
    "\n",
    "print(x)"
   ]
  },
  {
   "cell_type": "code",
   "execution_count": 7,
   "metadata": {},
   "outputs": [],
   "source": [
    "# Describe your result\n",
    "#one bag of coffee and one bag of tea costs $7 each"
   ]
  },
  {
   "cell_type": "markdown",
   "metadata": {},
   "source": [
    "## Exercise 2\n",
    "\n",
    "The cost of admission to a popular music concert was 162 dollars for 12 children and 3 adults. \n",
    "\n",
    "The admission was 122 dollars for 8 children and 3 adults in the same music concert. \n",
    "\n",
    "How much was the admission for each child and adult?"
   ]
  },
  {
   "cell_type": "code",
   "execution_count": 9,
   "metadata": {},
   "outputs": [
    {
     "name": "stdout",
     "output_type": "stream",
     "text": [
      "[[10.]\n",
      " [14.]]\n"
     ]
    }
   ],
   "source": [
    "# Create and solve the relevant system of equations\n",
    "\n",
    "a = np.matrix([[12,3], [8,3]])\n",
    "c = np.matrix([[162, 122]])\n",
    "\n",
    "a_inv = np.linalg.inv(a)\n",
    "c_t = c.T\n",
    "\n",
    "b = a_inv.dot(c_t)\n",
    "print(b)\n"
   ]
  },
  {
   "cell_type": "code",
   "execution_count": 10,
   "metadata": {},
   "outputs": [],
   "source": [
    "# Describe your result\n",
    "#child ticket is $10 and adult ticket is $14"
   ]
  },
  {
   "cell_type": "markdown",
   "metadata": {},
   "source": [
    "## Exercise 3\n",
    "\n",
    "You want to make a soup containing tomatoes, carrots, and onions.\n",
    "\n",
    "Suppose you don't know the exact mix to put in, but you know there are 7 individual pieces of vegetables, and there are twice as many tomatoes as onions, and that the 7 pieces of vegetables cost 5.25 USD in total. \n",
    "You also know that onions cost 0.5 USD each, tomatoes cost 0.75 USD and carrots cost 1.25 USD each.\n",
    "\n",
    "Create a system of equations to find out exactly how many of each of the vegetables are in your soup."
   ]
  },
  {
   "cell_type": "code",
   "execution_count": 13,
   "metadata": {},
   "outputs": [
    {
     "name": "stdout",
     "output_type": "stream",
     "text": [
      "(3, 3)\n",
      "(1, 3)\n",
      "[[2.]\n",
      " [4.]\n",
      " [1.]]\n"
     ]
    }
   ],
   "source": [
    "# Create and solve the relevant system of equations\n",
    "\n",
    "#2o = t\n",
    "#o+t+c = 7\n",
    "#.5*o + .75*t + 1.25*c = 5.25\n",
    "#you must make the equations each have 3 variables in order to design the matrix\n",
    "#therefore 2o = t can be: t - 2o +0c = 0\n",
    "\n",
    "a = np.matrix([[1,1,1], [.5, .75, 1.25], [-2, 1, 0]])\n",
    "c = np.matrix([[7,5.25, 0]])\n",
    "\n",
    "print(a.shape)\n",
    "print(c.shape)\n",
    "#(3 rows, 3 cols) (1 row, 1 col)\n",
    "\n",
    "a_inv = np.linalg.inv(a)\n",
    "c_t = c.T\n",
    "\n",
    "b = a_inv.dot(c_t)\n",
    "print(b)"
   ]
  },
  {
   "cell_type": "code",
   "execution_count": 14,
   "metadata": {},
   "outputs": [],
   "source": [
    "# Describe your result\n",
    "#the soup has 2 onions, 4 tomatoes and 1 carrot"
   ]
  },
  {
   "cell_type": "markdown",
   "metadata": {},
   "source": [
    "## Exercise 4\n",
    "\n",
    "A landlord owns 3 properties: a 1-bedroom, a 2-bedroom, and a 3-bedroom house. \n",
    "\n",
    "The total rent he receives is 1240 USD. \n",
    "\n",
    "He needs to make some repairs, where those repairs cost 10% of the 1-bedroom house’s rent. The 2-bedroom repairs cost 20% of the 2-bedroom rental price and 30% of the 3-bedroom house's rent for its repairs.  The total repair bill for all three houses was 276 USD. \n",
    "\n",
    "The 3-bedroom house's rent is twice the 1-bedroom house’s rent. \n",
    "\n",
    "How much is the individual rent for three houses?"
   ]
  },
  {
   "cell_type": "code",
   "execution_count": 15,
   "metadata": {},
   "outputs": [
    {
     "name": "stdout",
     "output_type": "stream",
     "text": [
      "[[280.]\n",
      " [400.]\n",
      " [560.]]\n"
     ]
    }
   ],
   "source": [
    "# Create and solve the relevant system of equations\n",
    "\n",
    "# one + two + three = 1240\n",
    "# .1one + .2two + .3three = 276\n",
    "# 2one = three\n",
    "# converting the last equation: -2one + 0two + three = 0\n",
    "\n",
    "a = np.matrix([[1,1,1], [.1, .2, .3], [-2, 0, 1]])\n",
    "c = np.matrix([[1240, 276, 0]])\n",
    "\n",
    "a_inv = np.linalg.inv(a)\n",
    "c_t = c.T\n",
    "\n",
    "b = a_inv.dot(c_t)\n",
    "print(b)"
   ]
  },
  {
   "cell_type": "code",
   "execution_count": 16,
   "metadata": {},
   "outputs": [],
   "source": [
    "# Describe your result\n",
    "# the one bedroom rends for $280, the 2-bed rents for $400, and the 3-bed rends for $560"
   ]
  },
  {
   "cell_type": "markdown",
   "metadata": {},
   "source": [
    "## Summary\n",
    "In this lab, you learned how to use NumPy to solve linear equations by taking inverses and matrix multiplication and also using numpy's `solve()` function. You'll now take these skills forward and see how you can define a simple regression problem using linear algebra and solve it with Numpy. "
   ]
  }
 ],
 "metadata": {
  "kernelspec": {
   "display_name": "Python 3",
   "language": "python",
   "name": "python3"
  },
  "language_info": {
   "codemirror_mode": {
    "name": "ipython",
    "version": 3
   },
   "file_extension": ".py",
   "mimetype": "text/x-python",
   "name": "python",
   "nbconvert_exporter": "python",
   "pygments_lexer": "ipython3",
   "version": "3.6.9"
  }
 },
 "nbformat": 4,
 "nbformat_minor": 2
}
